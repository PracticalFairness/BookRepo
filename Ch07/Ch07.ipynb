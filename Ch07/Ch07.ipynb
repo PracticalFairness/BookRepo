{
 "cells": [
  {
   "cell_type": "markdown",
   "metadata": {},
   "source": [
    "## Example black box audit with BBA library\n",
    "### p 190"
   ]
  },
  {
   "cell_type": "code",
   "execution_count": null,
   "metadata": {},
   "outputs": [],
   "source": [
    "%matplotlib inline\n",
    "import matplotlib.pyplot as plt\n",
    "import pylab\n",
    "\n",
    "from sklearn.linear_model import LogisticRegression as LR\n",
    "\n",
    "from BlackBoxAuditing.model_factories import SVM\n",
    "\n",
    "from BlackBoxAuditing.data import load_from_file\n",
    "from BlackBoxAuditing.model_factories.AbstractModelFactory import AbstractModelFactory\n",
    "from BlackBoxAuditing.model_factories.AbstractModelVisitor import AbstractModelVisitor\n",
    "\n",
    "import pandas as pd\n",
    "import numpy as np\n",
    "import random\n",
    "\n",
    "import BlackBoxAuditing as BBA\n",
    "\n",
    "import pickle"
   ]
  },
  {
   "cell_type": "code",
   "execution_count": null,
   "metadata": {},
   "outputs": [],
   "source": [
    "## p 190\n",
    "ricci_data = BBA.load_data(\"ricci\")"
   ]
  },
  {
   "cell_type": "code",
   "execution_count": null,
   "metadata": {},
   "outputs": [],
   "source": [
    "type(ricci_data)"
   ]
  },
  {
   "cell_type": "code",
   "execution_count": null,
   "metadata": {},
   "outputs": [],
   "source": [
    "len(ricci_data)"
   ]
  },
  {
   "cell_type": "code",
   "execution_count": null,
   "metadata": {},
   "outputs": [],
   "source": [
    "for i in range(len(ricci_data)):\n",
    "    print(i)\n",
    "    print(type(ricci_data[0]))"
   ]
  },
  {
   "cell_type": "code",
   "execution_count": null,
   "metadata": {},
   "outputs": [],
   "source": [
    "ricci_data[0]"
   ]
  },
  {
   "cell_type": "code",
   "execution_count": null,
   "metadata": {},
   "outputs": [],
   "source": [
    "len(ricci_data[1])"
   ]
  },
  {
   "cell_type": "code",
   "execution_count": null,
   "metadata": {},
   "outputs": [],
   "source": [
    "ricci_data[1][:10]"
   ]
  },
  {
   "cell_type": "code",
   "execution_count": null,
   "metadata": {},
   "outputs": [],
   "source": [
    "df         = pd.DataFrame(ricci_data[2])\n",
    "df.columns = ricci_data[0]"
   ]
  },
  {
   "cell_type": "code",
   "execution_count": null,
   "metadata": {},
   "outputs": [],
   "source": [
    "df.groupby('Race').count()"
   ]
  },
  {
   "cell_type": "code",
   "execution_count": null,
   "metadata": {},
   "outputs": [],
   "source": [
    "df.groupby('Position').count()"
   ]
  },
  {
   "cell_type": "code",
   "execution_count": null,
   "metadata": {},
   "outputs": [],
   "source": [
    "df.groupby(['Position', 'Race']).count()"
   ]
  },
  {
   "cell_type": "code",
   "execution_count": null,
   "metadata": {},
   "outputs": [],
   "source": [
    "## p 192\n",
    "ricci_data[2][:10]"
   ]
  },
  {
   "cell_type": "code",
   "execution_count": null,
   "metadata": {},
   "outputs": [],
   "source": [
    "auditor                        = BBA.Auditor()\n",
    "auditor.ModelFactory           = SVM\n",
    "auditor(ricci_data, output_dir =\"ricci-audit-output\")"
   ]
  },
  {
   "cell_type": "code",
   "execution_count": null,
   "metadata": {},
   "outputs": [],
   "source": [
    "## p 196\n",
    "acc_data = pd.read_csv(\"ricci-audit-output/accuracy.png.data\")\n",
    "print(acc_data)"
   ]
  },
  {
   "cell_type": "code",
   "execution_count": null,
   "metadata": {},
   "outputs": [],
   "source": [
    "## p 197\n",
    "def influence(df):\n",
    "    return (df.iloc[0][1:] - df.iloc[-1][1:])\n",
    "\n",
    "influence(acc_data)"
   ]
  },
  {
   "cell_type": "code",
   "execution_count": null,
   "metadata": {},
   "outputs": [],
   "source": [
    "def influence_partial_repair(df):\n",
    "    return (df.iloc[0][1:] - df.iloc[5][1:])\n",
    "\n",
    "influence_partial_repair(acc_data)"
   ]
  },
  {
   "cell_type": "code",
   "execution_count": null,
   "metadata": {},
   "outputs": [],
   "source": [
    "## p 197\n",
    "deltas = influence(acc_data) - influence_partial_repair(acc_data)\n",
    "plt.bar(x = deltas.index, height = deltas.values)"
   ]
  },
  {
   "cell_type": "markdown",
   "metadata": {},
   "source": [
    "## Auditing a proprietary data set + black box model\n",
    "### p 197"
   ]
  },
  {
   "cell_type": "markdown",
   "metadata": {},
   "source": [
    "### First generate a proprietary data set ( you can also use a real one but I generate synthetic data for convenience)"
   ]
  },
  {
   "cell_type": "code",
   "execution_count": null,
   "metadata": {},
   "outputs": [],
   "source": [
    "## first produce the data\n",
    "## not covered in book, just background code needed to run example\n",
    "SAMPLE_SIZE = 1000\n",
    "\n",
    "credit_score = np.array(np.random.randn(SAMPLE_SIZE)) * 100 + 600\n",
    "gender = np.array(random.choices([\"female\", \"male\", \"non-binary\", \"prefer not to answer\"], \n",
    "                         weights = [0.48, 0.48, 0.02, 0.02], \n",
    "                        k = SAMPLE_SIZE))\n",
    "age = np.array(random.choices(range(18, 80), k = SAMPLE_SIZE))\n",
    "length_employment = np.rint((age - 18) * np.random.uniform(size=SAMPLE_SIZE))\n",
    "employee_score = credit_score * length_employment + random.choices(range(-1000, 1000), k = SAMPLE_SIZE)\n",
    "\n",
    "hire = np.logical_or(np.logical_and(employee_score > 9000, np.logical_or(gender == \"male\", age < 50)),\n",
    "                     employee_score > 9500).astype(float)                     \n",
    "\n",
    "female = np.where(gender == 'female', 1, 0)\n",
    "male = np.where(gender == 'male', 1, 0)\n",
    "nonbinary = np.where(gender == 'nonbinary', 1, 0)\n",
    "\n",
    "df = pd.DataFrame(\n",
    "    {\n",
    "        'credit_score'     : credit_score,\n",
    "        'gender'           : gender,\n",
    "        'age'              : age,\n",
    "        'length_employment': length_employment,\n",
    "        'employee_score'   : employee_score,\n",
    "        'female'           : female,\n",
    "        'male'             : male,\n",
    "        'nonbinary'        : nonbinary,\n",
    "        'hire'             : hire\n",
    "    })\n",
    "\n",
    "col_names = ['credit_score', 'age', \n",
    "             'length_employment', 'employee_score', \n",
    "            'female', 'male', 'nonbinary',\n",
    "            'hire']\n",
    "\n",
    "df.to_csv(\"synth_data.csv\", \n",
    "          index=False, \n",
    "          columns=col_names)"
   ]
  },
  {
   "cell_type": "markdown",
   "metadata": {},
   "source": [
    "### Example with proprietary data starts here in earnest"
   ]
  },
  {
   "cell_type": "code",
   "execution_count": null,
   "metadata": {},
   "outputs": [],
   "source": [
    "## p 198\n",
    "synthetic_data = load_from_file(\"synth_data.csv\", \n",
    "                                correct_types = np.repeat([float], [len(col_names)]), \n",
    "                                response_header = 'hire',\n",
    "                               train_percentage = 0.5)"
   ]
  },
  {
   "cell_type": "markdown",
   "metadata": {},
   "source": [
    "### But then another detour to build the \"proprietary model\" that will be opaque to BBA"
   ]
  },
  {
   "cell_type": "code",
   "execution_count": null,
   "metadata": {},
   "outputs": [],
   "source": [
    "train_data         = pd.DataFrame(synthetic_data[1])\n",
    "test_data          = pd.DataFrame(synthetic_data[2])\n",
    "train_data.columns = test_data.columns = col_names"
   ]
  },
  {
   "cell_type": "code",
   "execution_count": null,
   "metadata": {},
   "outputs": [],
   "source": [
    "train_data.head()"
   ]
  },
  {
   "cell_type": "code",
   "execution_count": null,
   "metadata": {},
   "outputs": [],
   "source": [
    "X = train_data.iloc[:, :-1]\n",
    "Y = train_data.iloc[:, -1]"
   ]
  },
  {
   "cell_type": "code",
   "execution_count": null,
   "metadata": {},
   "outputs": [],
   "source": [
    "lr = LR().fit(X, Y)"
   ]
  },
  {
   "cell_type": "code",
   "execution_count": null,
   "metadata": {},
   "outputs": [],
   "source": [
    "X_test = test_data.iloc[:, :-1]\n",
    "Y_test = test_data.iloc[:, -1]\n",
    "lr.score(X_test, Y_test)"
   ]
  },
  {
   "cell_type": "code",
   "execution_count": null,
   "metadata": {},
   "outputs": [],
   "source": [
    "with open( 'lr.pickle', 'wb' ) as f:\n",
    "    pickle.dump(lr, f )"
   ]
  },
  {
   "cell_type": "code",
   "execution_count": null,
   "metadata": {},
   "outputs": [],
   "source": [
    "with open( 'lr.pickle', 'rb' ) as f:\n",
    "    lr2 = pickle.load(f)"
   ]
  },
  {
   "cell_type": "markdown",
   "metadata": {},
   "source": [
    "### Return to on-topic example of auditing a black box model"
   ]
  },
  {
   "cell_type": "code",
   "execution_count": null,
   "metadata": {},
   "outputs": [],
   "source": [
    "## p 199\n",
    "class HirePredictorBuilder(AbstractModelFactory):\n",
    "    def __init__(self, *args, **kwargs):\n",
    "        AbstractModelFactory.__init__(self, *args, **kwargs)\n",
    "        self.verbose_factory_name = \"HirePredictor\" \n",
    "    def build(self, train_set):\n",
    "        return HirePredictor() \n",
    "\n",
    "class HirePredictor(AbstractModelVisitor):\n",
    "    def __init__(self):\n",
    "        with open( 'lr.pickle', 'rb' ) as f:\n",
    "            self.lr = pickle.load(f) \n",
    "\n",
    "    def test(self, test_set, test_name=\"\"):\n",
    "        return [[v[-1], self.lr.predict(np.expand_dims(np.array(v[:-1]), axis = 0))] for v in test_set] \n"
   ]
  },
  {
   "cell_type": "code",
   "execution_count": null,
   "metadata": {},
   "outputs": [],
   "source": [
    "auditor                            = BBA.Auditor()\n",
    "auditor.ModelFactory               = HirePredictorBuilder\n",
    "auditor(synthetic_data, output_dir = \"synthetic-audit-output\")"
   ]
  },
  {
   "cell_type": "code",
   "execution_count": null,
   "metadata": {},
   "outputs": [],
   "source": []
  }
 ],
 "metadata": {
  "kernelspec": {
   "display_name": "Python 3",
   "language": "python",
   "name": "python3"
  },
  "language_info": {
   "codemirror_mode": {
    "name": "ipython",
    "version": 3
   },
   "file_extension": ".py",
   "mimetype": "text/x-python",
   "name": "python",
   "nbconvert_exporter": "python",
   "pygments_lexer": "ipython3",
   "version": "3.7.5"
  }
 },
 "nbformat": 4,
 "nbformat_minor": 2
}
