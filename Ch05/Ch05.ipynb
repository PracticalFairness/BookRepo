{
 "cells": [
  {
   "cell_type": "code",
   "execution_count": null,
   "metadata": {},
   "outputs": [],
   "source": [
    "import numpy as np\n",
    "np.set_printoptions(suppress=True) \n",
    "\n",
    "# Datasets\n",
    "from aif360.datasets import MEPSDataset19\n",
    "### fyi: there are also alternate MEPSDataset data sets to look into\n",
    "\n",
    "from sklearn.linear_model import LogisticRegression\n",
    "from sklearn.preprocessing import StandardScaler\n",
    "\n",
    "## utility functions\n",
    "from common_utils import compute_metrics ## taken from AIF360 github repo\n",
    "from aif360.metrics import BinaryLabelDatasetMetric, ClassificationMetric\n",
    "\n",
    "## In-processing prejudice remover\n",
    "from aif360.algorithms.inprocessing import PrejudiceRemover\n",
    "\n",
    "## Adversarial debiasing\n",
    "from aif360.algorithms.inprocessing.adversarial_debiasing import AdversarialDebiasing\n",
    "import tensorflow as tf"
   ]
  },
  {
   "cell_type": "markdown",
   "metadata": {},
   "source": [
    "## Load a dataset regarding healthcare allocation\n",
    "### p 136"
   ]
  },
  {
   "cell_type": "code",
   "execution_count": null,
   "metadata": {},
   "outputs": [],
   "source": [
    "np.random.seed(132)\n",
    "def split_data_trn_vld_tst(data_raw):\n",
    "    dset_raw_trn, dset_raw_vt = data_raw.split([0.7], shuffle=True)\n",
    "    dset_raw_vld, dset_raw_tst = dset_raw_vt.split([0.5], shuffle=True)\n",
    "    \n",
    "    return dset_raw_trn, dset_raw_vld, dset_raw_tst"
   ]
  },
  {
   "cell_type": "code",
   "execution_count": null,
   "metadata": {},
   "outputs": [],
   "source": [
    "## p 137\n",
    "med_data = MEPSDataset19()"
   ]
  },
  {
   "cell_type": "code",
   "execution_count": null,
   "metadata": {},
   "outputs": [],
   "source": [
    "dset_raw_trn, dset_raw_vld, dset_raw_tst = split_data_trn_vld_tst(med_data)"
   ]
  },
  {
   "cell_type": "code",
   "execution_count": null,
   "metadata": {},
   "outputs": [],
   "source": [
    "dset_raw_trn.protected_attribute_names"
   ]
  },
  {
   "cell_type": "code",
   "execution_count": null,
   "metadata": {},
   "outputs": [],
   "source": [
    "priv_group   = [{'RACE': 1}]\n",
    "unpriv_group = [{'RACE': 0}]"
   ]
  },
  {
   "cell_type": "code",
   "execution_count": null,
   "metadata": {},
   "outputs": [],
   "source": [
    "dset_raw_trn"
   ]
  },
  {
   "cell_type": "code",
   "execution_count": null,
   "metadata": {},
   "outputs": [],
   "source": [
    "dset_raw_trn.label_names"
   ]
  },
  {
   "cell_type": "code",
   "execution_count": null,
   "metadata": {},
   "outputs": [],
   "source": [
    "metric = BinaryLabelDatasetMetric(dset_raw_trn, \n",
    "                                  unprivileged_groups = unpriv_group, \n",
    "                                  privileged_groups   = priv_group)"
   ]
  },
  {
   "cell_type": "code",
   "execution_count": null,
   "metadata": {},
   "outputs": [],
   "source": [
    "metric.disparate_impact()"
   ]
  },
  {
   "cell_type": "code",
   "execution_count": null,
   "metadata": {},
   "outputs": [],
   "source": [
    "metric.consistency()"
   ]
  },
  {
   "cell_type": "code",
   "execution_count": null,
   "metadata": {},
   "outputs": [],
   "source": [
    "metric.mean_difference()"
   ]
  },
  {
   "cell_type": "markdown",
   "metadata": {},
   "source": [
    "## Prejudice Remover"
   ]
  },
  {
   "cell_type": "code",
   "execution_count": null,
   "metadata": {},
   "outputs": [],
   "source": [
    "## p 143\n",
    "def test_eta_bal_acc(ETA, dset_raw_trn, dset_raw_vld, dset_raw_tst):\n",
    "    pr = PrejudiceRemover(sensitive_attr = 'RACE', eta = ETA)\n",
    "    scaler = StandardScaler()\n",
    "\n",
    "    dset_scaled_trn = dset_raw_trn.copy()\n",
    "    dset_scaled_trn.features = scaler.fit_transform(dset_scaled_trn.features)\n",
    "\n",
    "    pr_fitted = pr.fit(dset_scaled_trn)\n",
    "    \n",
    "    accs = []\n",
    "    thresholds = np.linspace(0.01, 0.50, 10)\n",
    "\n",
    "    dset_val = dset_raw_vld.copy()\n",
    "    dset_val.features = scaler.transform(dset_val.features)\n",
    "\n",
    "    ##################### STEP 1 TRAINING WITH INPROCESSING #####################\n",
    "    pr_pred_prob = pr_fitted.predict(dset_val).scores\n",
    "\n",
    "    ##################### STEP 2 PICKING THRESHOLD WITH VALIDATION DATA #####################\n",
    "    for threshold in thresholds:\n",
    "        dset_val_pred = dset_val.copy()\n",
    "        dset_val_pred.labels = (pr_pred_prob[:, 0] > threshold).astype(np.float64)\n",
    "\n",
    "        metric = ClassificationMetric(\n",
    "                    dset_val, dset_val_pred,\n",
    "                    unprivileged_groups = unpriv_group,\n",
    "                    privileged_groups=priv_group)\n",
    "        accs.append((metric.true_positive_rate() + metric.true_negative_rate()) / 2)\n",
    "\n",
    "\n",
    "    pr_val_best_idx = np.argmax(accs)\n",
    "    best_threshold = thresholds[pr_val_best_idx]\n",
    "    \n",
    "    ##################### STEP 3 TEST DATA #####################\n",
    "    dset_tst = dset_raw_tst.copy()\n",
    "    dset_tst.features = scaler.transform(dset_tst.features)\n",
    "\n",
    "    pr_pred_prob = pr_fitted.predict(dset_tst).scores\n",
    "\n",
    "\n",
    "    dset_tst_pred = dset_tst.copy()\n",
    "    dset_tst_pred.labels = (pr_pred_prob[:, 0] > best_threshold).astype(np.float64)\n",
    "\n",
    "    metric = ClassificationMetric(\n",
    "                dset_tst, dset_tst_pred,\n",
    "                unprivileged_groups = unpriv_group,\n",
    "                privileged_groups   = priv_group)\n",
    "    test_acc = (metric.true_positive_rate() + metric.true_negative_rate()) / 2 ## no built in balanced error rate\n",
    "    test_disp_impact = metric.disparate_impact()\n",
    "\n",
    "    print(\"Testing accuracy with ETA %0.2f = %0.2f\\n Disparate impact %0.2f\" % (ETA, test_acc, test_disp_impact))\n",
    "    return (test_acc, test_disp_impact)"
   ]
  },
  {
   "cell_type": "code",
   "execution_count": null,
   "metadata": {},
   "outputs": [],
   "source": [
    "## p 144\n",
    "test_eta_bal_acc(5.0, dset_raw_trn, dset_raw_vld, dset_raw_tst)"
   ]
  },
  {
   "cell_type": "code",
   "execution_count": null,
   "metadata": {},
   "outputs": [],
   "source": [
    "test_eta_bal_acc(50.0, dset_raw_trn, dset_raw_vld, dset_raw_tst)"
   ]
  },
  {
   "cell_type": "code",
   "execution_count": null,
   "metadata": {},
   "outputs": [],
   "source": [
    "test_eta_bal_acc(20.0, dset_raw_trn, dset_raw_vld, dset_raw_tst)"
   ]
  },
  {
   "cell_type": "markdown",
   "metadata": {},
   "source": [
    "## Adversarial debiasing\n",
    "### p 145"
   ]
  },
  {
   "cell_type": "code",
   "execution_count": null,
   "metadata": {},
   "outputs": [],
   "source": [
    "## p 148\n",
    "tf.reset_default_graph()\n",
    "sess = tf.Session()\n",
    " \n",
    "kwargs = {'privileged_groups'        : priv_group,\n",
    "        'unprivileged_groups'        : unpriv_group,\n",
    "        'scope_name'                 : 'debiased_classifier', \n",
    "        'debias'                     : True,\n",
    "        'sess'                       : sess,\n",
    "        'adversary_loss_weight'      : 0.5,\n",
    "        'num_epochs'                 : 2, \n",
    "        'batch_size'                 : 128, \n",
    "        'classifier_num_hidden_units': 200, \n",
    "        'debias'                     : False,\n",
    "        'seed'                       : 117\n",
    "         }\n",
    "\n",
    "# Learn parameters with debias set to True\n",
    "debiased_model = AdversarialDebiasing(**kwargs) \n",
    "\n",
    "## p 149\n",
    "scaler = StandardScaler()\n",
    "\n",
    "dset_scaled_trn = dset_raw_trn.copy()\n",
    "dset_scaled_trn.features = scaler.fit_transform(dset_scaled_trn.features)\n",
    "\n",
    "debiased_model.fit(dset_scaled_trn)\n",
    "\n",
    "dset_tst               = dset_raw_tst.copy()\n",
    "dset_tst.features      = scaler.transform(dset_tst.features)\n",
    "\n",
    "thresholds = np.linspace(0.2, 0.60, 5)\n",
    "\n",
    "for thresh in thresholds:\n",
    "    dset_tst_pred          = dset_tst.copy()\n",
    "    dset_tst_pred.labels   = debiased_model.predict(dset_tst).scores > thresh\n",
    "    print(np.bincount(dset_tst_pred.labels[:, 0].astype('int')))\n",
    "    \n",
    "    adv_deb_metric = ClassificationMetric(\n",
    "                        dset_tst, dset_tst_pred,\n",
    "                        unprivileged_groups = unpriv_group,\n",
    "                        privileged_groups   = priv_group)\n",
    "\n",
    "    test_acc = (adv_deb_metric.true_positive_rate() + adv_deb_metric.true_negative_rate()) / 2\n",
    "    test_disp_impact = adv_deb_metric.disparate_impact()\n",
    "\n",
    "    print(\"\\n\\nThresh: %0.2f\\nTesting balanced accuracy %0.2f\\nDisparate impact %0.2f\" % \n",
    "          (thresh, test_acc, test_disp_impact))"
   ]
  },
  {
   "cell_type": "code",
   "execution_count": null,
   "metadata": {},
   "outputs": [],
   "source": [
    "## p 150\n",
    "tf.reset_default_graph()\n",
    "sess = tf.Session()\n",
    " \n",
    "kwargs = {\n",
    "    'privileged_groups'        : priv_group,\n",
    "    'unprivileged_groups'        : unpriv_group,\n",
    "    'scope_name'                 : 'debiased_classifier', \n",
    "    'debias'                     : True,\n",
    "    'sess'                       : sess,\n",
    "    'adversary_loss_weight'      : 1.0,\n",
    "    'num_epochs'                 : 25, \n",
    "    'batch_size'                 : 128, \n",
    "    'classifier_num_hidden_units': 16, \n",
    "    'debias'                     : True,\n",
    "    'seed'                       : 117\n",
    "     }\n",
    "\n",
    "# Learn parameters with debias set to True\n",
    "debiased_model = AdversarialDebiasing(**kwargs) \n",
    "\n",
    "scaler = StandardScaler()\n",
    "\n",
    "dset_scaled_trn = dset_raw_trn.copy()\n",
    "dset_scaled_trn.features = scaler.fit_transform(dset_scaled_trn.features)\n",
    "\n",
    "debiased_model.fit(dset_scaled_trn)\n",
    "\n",
    "dset_tst               = dset_raw_tst.copy()\n",
    "dset_tst.features      = scaler.transform(dset_tst.features)\n",
    "\n",
    "thresholds = np.linspace(0.2, 0.60, 5)\n",
    "\n",
    "for thresh in thresholds:\n",
    "    dset_tst_pred          = dset_tst.copy()\n",
    "    dset_tst_pred.labels   = debiased_model.predict(dset_tst).scores > thresh\n",
    "    print(np.bincount(dset_tst_pred.labels[:, 0].astype('int')))\n",
    "    \n",
    "    adv_deb_metric = ClassificationMetric(\n",
    "                        dset_tst, dset_tst_pred,\n",
    "                        unprivileged_groups = unpriv_group,\n",
    "                        privileged_groups   = priv_group)\n",
    "\n",
    "    test_acc = (adv_deb_metric.true_positive_rate() + adv_deb_metric.true_negative_rate()) / 2\n",
    "    test_disp_impact = adv_deb_metric.disparate_impact()\n",
    "\n",
    "    print(\"\\n\\nThresh: %0.2f\\nTesting balanced accuracy %0.2f\\nDisparate impact %0.2f\" % (thresh, test_acc, test_disp_impact))"
   ]
  },
  {
   "cell_type": "code",
   "execution_count": null,
   "metadata": {},
   "outputs": [],
   "source": []
  }
 ],
 "metadata": {
  "kernelspec": {
   "display_name": "Python 3",
   "language": "python",
   "name": "python3"
  },
  "language_info": {
   "codemirror_mode": {
    "name": "ipython",
    "version": 3
   },
   "file_extension": ".py",
   "mimetype": "text/x-python",
   "name": "python",
   "nbconvert_exporter": "python",
   "pygments_lexer": "ipython3",
   "version": "3.7.5"
  }
 },
 "nbformat": 4,
 "nbformat_minor": 2
}
