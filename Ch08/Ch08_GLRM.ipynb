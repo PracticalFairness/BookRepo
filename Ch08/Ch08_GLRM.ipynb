{
 "cells": [
  {
   "cell_type": "code",
   "execution_count": null,
   "metadata": {},
   "outputs": [],
   "source": [
    "import numpy as np\n",
    "import pandas as pd\n",
    "\n",
    "from sklearn.metrics import accuracy_score\n",
    "from sklearn.model_selection import train_test_split\n",
    "\n",
    "from aix360.algorithms.rbm import FeatureBinarizer, LogisticRuleRegression\n",
    "\n",
    "from aif360.datasets import MEPSDataset19\n",
    "\n",
    "import aix360"
   ]
  },
  {
   "cell_type": "markdown",
   "metadata": {},
   "source": [
    "## Getting some data\n",
    "### p 208"
   ]
  },
  {
   "cell_type": "markdown",
   "metadata": {},
   "source": [
    "### Bring in the dataset"
   ]
  },
  {
   "cell_type": "code",
   "execution_count": null,
   "metadata": {},
   "outputs": [],
   "source": [
    "## p 208\n",
    "med_data19 = MEPSDataset19()"
   ]
  },
  {
   "cell_type": "markdown",
   "metadata": {},
   "source": [
    "#### some brief exploration not shown in book"
   ]
  },
  {
   "cell_type": "code",
   "execution_count": null,
   "metadata": {},
   "outputs": [],
   "source": [
    "med_data19.features.shape"
   ]
  },
  {
   "cell_type": "code",
   "execution_count": null,
   "metadata": {},
   "outputs": [],
   "source": [
    "med_data19.labels.shape"
   ]
  },
  {
   "cell_type": "code",
   "execution_count": null,
   "metadata": {},
   "outputs": [],
   "source": [
    "med_data19.label_names"
   ]
  },
  {
   "cell_type": "code",
   "execution_count": null,
   "metadata": {},
   "outputs": [],
   "source": [
    "type(med_data19)"
   ]
  },
  {
   "cell_type": "code",
   "execution_count": null,
   "metadata": {},
   "outputs": [],
   "source": [
    "med_data19.features"
   ]
  },
  {
   "cell_type": "code",
   "execution_count": null,
   "metadata": {},
   "outputs": [],
   "source": [
    "med_data19.labels"
   ]
  },
  {
   "cell_type": "markdown",
   "metadata": {},
   "source": [
    "#### back to loading data and continuing"
   ]
  },
  {
   "cell_type": "code",
   "execution_count": null,
   "metadata": {},
   "outputs": [],
   "source": [
    "## p 208\n",
    "X_train, X_test, y_train, y_test = train_test_split(\n",
    "    med_data19.features, med_data19.labels, \n",
    "    random_state = 0, stratify = med_data19.labels) "
   ]
  },
  {
   "cell_type": "code",
   "execution_count": null,
   "metadata": {},
   "outputs": [],
   "source": [
    "X_train.shape"
   ]
  },
  {
   "cell_type": "code",
   "execution_count": null,
   "metadata": {},
   "outputs": [],
   "source": [
    "X_train         = pd.DataFrame(X_train)\n",
    "X_train.columns = med_data19.feature_names\n",
    "X_train.head()"
   ]
  },
  {
   "cell_type": "code",
   "execution_count": null,
   "metadata": {},
   "outputs": [],
   "source": [
    "X_test         = pd.DataFrame(X_test)\n",
    "X_test.columns = med_data19.feature_names"
   ]
  },
  {
   "cell_type": "code",
   "execution_count": null,
   "metadata": {},
   "outputs": [],
   "source": [
    "X_test.head()"
   ]
  },
  {
   "cell_type": "code",
   "execution_count": null,
   "metadata": {},
   "outputs": [],
   "source": [
    "y_train = y_train[:, 0]"
   ]
  },
  {
   "cell_type": "code",
   "execution_count": null,
   "metadata": {},
   "outputs": [],
   "source": [
    "y_test = y_test[:, 0]"
   ]
  },
  {
   "cell_type": "markdown",
   "metadata": {},
   "source": [
    "## Building interpretable models"
   ]
  },
  {
   "cell_type": "code",
   "execution_count": null,
   "metadata": {},
   "outputs": [],
   "source": [
    "## preparation: we need to binarize inputs\n",
    "## p 209\n",
    "feat_bin = FeatureBinarizer(negations=True, returnOrd=True)"
   ]
  },
  {
   "cell_type": "code",
   "execution_count": null,
   "metadata": {},
   "outputs": [],
   "source": [
    "X_train, X_train_std = feat_bin.fit_transform(X_train)\n",
    "X_test, X_testStd    = feat_bin.transform(X_test)"
   ]
  },
  {
   "cell_type": "code",
   "execution_count": null,
   "metadata": {},
   "outputs": [],
   "source": [
    "X_train['AGE'].head()"
   ]
  },
  {
   "cell_type": "markdown",
   "metadata": {},
   "source": [
    "## GLRM\n",
    "### p 207 and onwards"
   ]
  },
  {
   "cell_type": "code",
   "execution_count": null,
   "metadata": {},
   "outputs": [],
   "source": [
    "## p 210\n",
    "lrr = LogisticRuleRegression(lambda0 = 0.005, lambda1 = 0.001, useOrd = True)\n",
    "lrr.fit(X_train, y_train, X_train_std)"
   ]
  },
  {
   "cell_type": "code",
   "execution_count": null,
   "metadata": {},
   "outputs": [],
   "source": [
    "print('Train accuracy: %0.2f      Test accuracy: %0.2f' % \n",
    "          (accuracy_score(y_train, lrr.predict(X_train, X_train_std)),\n",
    "          accuracy_score(y_test, lrr.predict(X_test, X_testStd))))"
   ]
  },
  {
   "cell_type": "code",
   "execution_count": null,
   "metadata": {},
   "outputs": [],
   "source": [
    "## p 211\n",
    "df = lrr.explain()\n",
    "df['rule/numerical feature'][1]\n",
    "df.style.set_properties(subset=['rule/numerical feature'], **{'width': '300px'})"
   ]
  },
  {
   "cell_type": "code",
   "execution_count": null,
   "metadata": {},
   "outputs": [],
   "source": [
    "## p 212\n",
    "df = lrr.explain(highDegOnly = True)\n",
    "df.style.set_properties(subset=['rule'], **{'width': '300px'})"
   ]
  },
  {
   "cell_type": "code",
   "execution_count": null,
   "metadata": {},
   "outputs": [],
   "source": [
    "## from documentation\n",
    "## lambda0 (float, optional) – Regularization - fixed cost of each rule\n",
    "## lambda1 (float, optional) – Regularization - additional cost of each literal in rule"
   ]
  },
  {
   "cell_type": "code",
   "execution_count": null,
   "metadata": {},
   "outputs": [],
   "source": [
    "## p 215\n",
    "## now let's imagine we're willing to allow more complex rules but want fewer rules. let's adjust lambda and see what that does to performance\n",
    "lrr_alt = LogisticRuleRegression(lambda0=0.01, lambda1=0.0001, useOrd=True)\n",
    "lrr_alt.fit(X_train, y_train, X_train_std)"
   ]
  },
  {
   "cell_type": "code",
   "execution_count": null,
   "metadata": {},
   "outputs": [],
   "source": [
    "print('Train accuracy: %0.2f      Test accuracy: %0.2f' % \n",
    "          (accuracy_score(y_train, lrr_alt.predict(X_train, X_train_std)),\n",
    "          accuracy_score(y_test, lrr_alt.predict(X_test, X_testStd))))"
   ]
  },
  {
   "cell_type": "code",
   "execution_count": null,
   "metadata": {},
   "outputs": [],
   "source": [
    "## p 216\n",
    "df_alt = lrr_alt.explain()\n",
    "df_alt['rule'][1]\n",
    "df_alt.style.set_properties(subset=['rule'], **{'width': '300px'})"
   ]
  }
 ],
 "metadata": {
  "kernelspec": {
   "display_name": "Python 3",
   "language": "python",
   "name": "python3"
  },
  "language_info": {
   "codemirror_mode": {
    "name": "ipython",
    "version": 3
   },
   "file_extension": ".py",
   "mimetype": "text/x-python",
   "name": "python",
   "nbconvert_exporter": "python",
   "pygments_lexer": "ipython3",
   "version": "3.7.5"
  }
 },
 "nbformat": 4,
 "nbformat_minor": 2
}
